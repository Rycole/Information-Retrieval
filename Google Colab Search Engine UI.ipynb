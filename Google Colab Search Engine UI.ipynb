{
 "cells": [
  {
   "cell_type": "markdown",
   "metadata": {
    "id": "vMlVuuH6Ek1E"
   },
   "source": [
    "\n",
    "# Google Colab Search Engine UI \n",
    "---\n"
   ]
  },
  {
   "cell_type": "code",
   "execution_count": 25,
   "metadata": {
    "id": "buyMgysMEk1G"
   },
   "outputs": [],
   "source": [
    "import pandas as pd\n",
    "import re\n",
    "import string\n",
    "import math\n",
    "\n",
    "import matplotlib.pyplot as plt\n",
    "import emoji"
   ]
  },
  {
   "cell_type": "code",
   "execution_count": 9,
   "metadata": {
    "id": "yu3n29apEk1H"
   },
   "outputs": [],
   "source": [
    "from textblob import TextBlob"
   ]
  },
  {
   "cell_type": "markdown",
   "metadata": {},
   "source": [
    "---\n",
    "### Importing Elastic Search\n",
    "---"
   ]
  },
  {
   "cell_type": "code",
   "execution_count": 1,
   "metadata": {
    "colab": {
     "base_uri": "https://localhost:8080/"
    },
    "id": "ExUo66ybEtMQ",
    "outputId": "14c4ecd8-5991-44a1-8b16-8ffdfdb33d67"
   },
   "outputs": [
    {
     "name": "stdout",
     "output_type": "stream",
     "text": [
      "\u001b[K     |████████████████████████████████| 185 kB 8.9 MB/s eta 0:00:01\n",
      "\u001b[?25h  Building wheel for emoji (setup.py) ... \u001b[?25l\u001b[?25hdone\n"
     ]
    }
   ],
   "source": []
  },
  {
   "cell_type": "code",
   "execution_count": 2,
   "metadata": {
    "id": "q1lohwF9q9GF"
   },
   "outputs": [],
   "source": [
    "!pip install emoji -q\n",
    "!wget https://artifacts.elastic.co/downloads/elasticsearch/elasticsearch-7.0.0-linux-x86_64.tar.gz -q\n",
    "!tar -xzf elasticsearch-7.0.0-linux-x86_64.tar.gz\n",
    "!chown -R daemon:daemon elasticsearch-7.0.0\n",
    "!pip install elasticsearch -q"
   ]
  },
  {
   "cell_type": "code",
   "execution_count": 3,
   "metadata": {
    "colab": {
     "base_uri": "https://localhost:8080/"
    },
    "id": "u4HcyHEFrPev",
    "outputId": "8f2dde0d-4e9d-47e7-d0c0-bdc420421a66"
   },
   "outputs": [
    {
     "name": "stdout",
     "output_type": "stream",
     "text": [
      "\u001b[K     |████████████████████████████████| 356 kB 6.9 MB/s eta 0:00:01\n",
      "\u001b[?25h"
     ]
    }
   ],
   "source": []
  },
  {
   "cell_type": "code",
   "execution_count": 4,
   "metadata": {
    "id": "83TrpBwfrZti"
   },
   "outputs": [],
   "source": [
    "# let's import ES\n",
    "from elasticsearch import Elasticsearch\n",
    "# start es server\n",
    "import os\n",
    "from subprocess import Popen, PIPE, STDOUT\n",
    "es_server = Popen(['elasticsearch-7.0.0/bin/elasticsearch'], \n",
    "                  stdout=PIPE, stderr=STDOUT,\n",
    "                  preexec_fn=lambda: os.setuid(1)  # as daemon\n",
    "                 )"
   ]
  },
  {
   "cell_type": "markdown",
   "metadata": {},
   "source": [
    "---\n",
    "### Importing the Dataset\n",
    "---"
   ]
  },
  {
   "cell_type": "code",
   "execution_count": 10,
   "metadata": {
    "colab": {
     "base_uri": "https://localhost:8080/",
     "height": 197
    },
    "id": "_ltsD76PEk1H",
    "outputId": "914b9034-0408-426a-8272-f0ea4fcadeb0"
   },
   "outputs": [
    {
     "data": {
      "text/html": [
       "<div>\n",
       "<style scoped>\n",
       "    .dataframe tbody tr th:only-of-type {\n",
       "        vertical-align: middle;\n",
       "    }\n",
       "\n",
       "    .dataframe tbody tr th {\n",
       "        vertical-align: top;\n",
       "    }\n",
       "\n",
       "    .dataframe thead th {\n",
       "        text-align: right;\n",
       "    }\n",
       "</style>\n",
       "<table border=\"1\" class=\"dataframe\">\n",
       "  <thead>\n",
       "    <tr style=\"text-align: right;\">\n",
       "      <th></th>\n",
       "      <th>id</th>\n",
       "      <th>text</th>\n",
       "      <th>timestamp</th>\n",
       "      <th>source</th>\n",
       "      <th>symbols</th>\n",
       "      <th>company_names</th>\n",
       "      <th>url</th>\n",
       "      <th>verified</th>\n",
       "    </tr>\n",
       "  </thead>\n",
       "  <tbody>\n",
       "    <tr>\n",
       "      <th>0</th>\n",
       "      <td>1.019700e+18</td>\n",
       "      <td>VIDEO: “I was in my office. I was minding my o...</td>\n",
       "      <td>Wed Jul 18 21:33:26 +0000 2018</td>\n",
       "      <td>GoldmanSachs</td>\n",
       "      <td>GS</td>\n",
       "      <td>The Goldman Sachs</td>\n",
       "      <td>https://twitter.com/i/web/status/1019696670777...</td>\n",
       "      <td>True</td>\n",
       "    </tr>\n",
       "    <tr>\n",
       "      <th>1</th>\n",
       "      <td>1.019710e+18</td>\n",
       "      <td>The price of lumber $LB_F is down 22% since hi...</td>\n",
       "      <td>Wed Jul 18 22:22:47 +0000 2018</td>\n",
       "      <td>StockTwits</td>\n",
       "      <td>M</td>\n",
       "      <td>Macy's</td>\n",
       "      <td>https://twitter.com/i/web/status/1019709091038...</td>\n",
       "      <td>True</td>\n",
       "    </tr>\n",
       "    <tr>\n",
       "      <th>2</th>\n",
       "      <td>1.019710e+18</td>\n",
       "      <td>Who says the American Dream is dead? https://t...</td>\n",
       "      <td>Wed Jul 18 22:32:01 +0000 2018</td>\n",
       "      <td>TheStreet</td>\n",
       "      <td>AIG</td>\n",
       "      <td>American</td>\n",
       "      <td>https://buff.ly/2L3kmc4</td>\n",
       "      <td>True</td>\n",
       "    </tr>\n",
       "    <tr>\n",
       "      <th>3</th>\n",
       "      <td>1.019720e+18</td>\n",
       "      <td>Barry Silbert is extremely optimistic on bitco...</td>\n",
       "      <td>Wed Jul 18 22:52:52 +0000 2018</td>\n",
       "      <td>MarketWatch</td>\n",
       "      <td>BTC</td>\n",
       "      <td>Bitcoin</td>\n",
       "      <td>https://twitter.com/i/web/status/1019716662587...</td>\n",
       "      <td>True</td>\n",
       "    </tr>\n",
       "    <tr>\n",
       "      <th>4</th>\n",
       "      <td>1.019720e+18</td>\n",
       "      <td>How satellites avoid attacks and space junk wh...</td>\n",
       "      <td>Wed Jul 18 23:00:01 +0000 2018</td>\n",
       "      <td>Forbes</td>\n",
       "      <td>ORCL</td>\n",
       "      <td>Oracle</td>\n",
       "      <td>http://on.forbes.com/6013DqDDU</td>\n",
       "      <td>True</td>\n",
       "    </tr>\n",
       "  </tbody>\n",
       "</table>\n",
       "</div>"
      ],
      "text/plain": [
       "             id  ... verified\n",
       "0  1.019700e+18  ...     True\n",
       "1  1.019710e+18  ...     True\n",
       "2  1.019710e+18  ...     True\n",
       "3  1.019720e+18  ...     True\n",
       "4  1.019720e+18  ...     True\n",
       "\n",
       "[5 rows x 8 columns]"
      ]
     },
     "execution_count": 10,
     "metadata": {
      "tags": []
     },
     "output_type": "execute_result"
    }
   ],
   "source": [
    "# Importing the reduced data\n",
    "\n",
    "df = pd.read_csv('stockerbot-export(Verified Tweets).csv',error_bad_lines=False)\n",
    "df.head()\n",
    "\n"
   ]
  },
  {
   "cell_type": "code",
   "execution_count": 12,
   "metadata": {
    "id": "NsTobBhkEk1I"
   },
   "outputs": [],
   "source": [
    "df2 = df.copy(deep=True)\n",
    "\n",
    "df2['tokens'] = df2['text'] \n",
    "df2.tokens = df2.tokens.str.lower()\n",
    "df2.tokens = df2.tokens.apply(lambda x: re.sub(r'https?:\\/\\/\\S+', '', x))\n",
    "df2.tokens = df2.tokens.apply(lambda x: re.sub(r\"www\\.[a-z]?\\.?(com)+|[a-z]+\\.(com)\", '', x))\n",
    "df2.tokens = df2.tokens.apply(lambda x: re.sub(r'{link}', '', x))\n",
    "df2.tokens = df2.tokens.apply(lambda x: re.sub(r\"\\[video\\]\", '', x))\n",
    "df2.tokens = df2.tokens.apply(lambda x: re.sub(r'&[a-z]+;', '', x))\n",
    "df2.tokens = df2.tokens.apply(lambda x: re.sub(r'[@$#]+', '', x))\n",
    "df2.tokens = df2.tokens.apply(lambda x: re.sub(\"([^\\x00-\\x7F])+\",\" \",x))  #Removed Chinese symbols\n",
    "\n"
   ]
  },
  {
   "cell_type": "code",
   "execution_count": 13,
   "metadata": {
    "colab": {
     "base_uri": "https://localhost:8080/",
     "height": 406
    },
    "id": "75cGuYlXEk1I",
    "outputId": "24606db9-8852-4893-ddab-1adba0afaf8b"
   },
   "outputs": [
    {
     "data": {
      "text/html": [
       "<div>\n",
       "<style scoped>\n",
       "    .dataframe tbody tr th:only-of-type {\n",
       "        vertical-align: middle;\n",
       "    }\n",
       "\n",
       "    .dataframe tbody tr th {\n",
       "        vertical-align: top;\n",
       "    }\n",
       "\n",
       "    .dataframe thead th {\n",
       "        text-align: right;\n",
       "    }\n",
       "</style>\n",
       "<table border=\"1\" class=\"dataframe\">\n",
       "  <thead>\n",
       "    <tr style=\"text-align: right;\">\n",
       "      <th></th>\n",
       "      <th>id</th>\n",
       "      <th>text</th>\n",
       "      <th>time</th>\n",
       "      <th>source</th>\n",
       "      <th>symbols</th>\n",
       "      <th>company_names</th>\n",
       "      <th>url</th>\n",
       "      <th>verified</th>\n",
       "      <th>tokens</th>\n",
       "      <th>date</th>\n",
       "    </tr>\n",
       "  </thead>\n",
       "  <tbody>\n",
       "    <tr>\n",
       "      <th>0</th>\n",
       "      <td>1.019700e+18</td>\n",
       "      <td>VIDEO: “I was in my office. I was minding my o...</td>\n",
       "      <td>21:33:26</td>\n",
       "      <td>GoldmanSachs</td>\n",
       "      <td>GS</td>\n",
       "      <td>The Goldman Sachs</td>\n",
       "      <td>https://twitter.com/i/web/status/1019696670777...</td>\n",
       "      <td>True</td>\n",
       "      <td>video:  i was in my office. i was minding my o...</td>\n",
       "      <td>2018-07-18</td>\n",
       "    </tr>\n",
       "    <tr>\n",
       "      <th>1</th>\n",
       "      <td>1.019710e+18</td>\n",
       "      <td>The price of lumber $LB_F is down 22% since hi...</td>\n",
       "      <td>22:22:47</td>\n",
       "      <td>StockTwits</td>\n",
       "      <td>M</td>\n",
       "      <td>Macy's</td>\n",
       "      <td>https://twitter.com/i/web/status/1019709091038...</td>\n",
       "      <td>True</td>\n",
       "      <td>the price of lumber lb_f is down 22% since hit...</td>\n",
       "      <td>2018-07-18</td>\n",
       "    </tr>\n",
       "    <tr>\n",
       "      <th>2</th>\n",
       "      <td>1.019710e+18</td>\n",
       "      <td>Who says the American Dream is dead? https://t...</td>\n",
       "      <td>22:32:01</td>\n",
       "      <td>TheStreet</td>\n",
       "      <td>AIG</td>\n",
       "      <td>American</td>\n",
       "      <td>https://buff.ly/2L3kmc4</td>\n",
       "      <td>True</td>\n",
       "      <td>who says the american dream is dead?</td>\n",
       "      <td>2018-07-18</td>\n",
       "    </tr>\n",
       "    <tr>\n",
       "      <th>3</th>\n",
       "      <td>1.019720e+18</td>\n",
       "      <td>Barry Silbert is extremely optimistic on bitco...</td>\n",
       "      <td>22:52:52</td>\n",
       "      <td>MarketWatch</td>\n",
       "      <td>BTC</td>\n",
       "      <td>Bitcoin</td>\n",
       "      <td>https://twitter.com/i/web/status/1019716662587...</td>\n",
       "      <td>True</td>\n",
       "      <td>barry silbert is extremely optimistic on bitco...</td>\n",
       "      <td>2018-07-18</td>\n",
       "    </tr>\n",
       "    <tr>\n",
       "      <th>4</th>\n",
       "      <td>1.019720e+18</td>\n",
       "      <td>How satellites avoid attacks and space junk wh...</td>\n",
       "      <td>23:00:01</td>\n",
       "      <td>Forbes</td>\n",
       "      <td>ORCL</td>\n",
       "      <td>Oracle</td>\n",
       "      <td>http://on.forbes.com/6013DqDDU</td>\n",
       "      <td>True</td>\n",
       "      <td>how satellites avoid attacks and space junk wh...</td>\n",
       "      <td>2018-07-18</td>\n",
       "    </tr>\n",
       "    <tr>\n",
       "      <th>...</th>\n",
       "      <td>...</td>\n",
       "      <td>...</td>\n",
       "      <td>...</td>\n",
       "      <td>...</td>\n",
       "      <td>...</td>\n",
       "      <td>...</td>\n",
       "      <td>...</td>\n",
       "      <td>...</td>\n",
       "      <td>...</td>\n",
       "      <td>...</td>\n",
       "    </tr>\n",
       "    <tr>\n",
       "      <th>358</th>\n",
       "      <td>1.019730e+18</td>\n",
       "      <td>RT @LauraJKeller: See ya'll one more time toni...</td>\n",
       "      <td>23:26:46</td>\n",
       "      <td>HaidiLun</td>\n",
       "      <td>JPM</td>\n",
       "      <td>JPMorgan Chase &amp; Co.</td>\n",
       "      <td>NaN</td>\n",
       "      <td>True</td>\n",
       "      <td>rt laurajkeller: see ya'll one more time tonig...</td>\n",
       "      <td>2018-07-18</td>\n",
       "    </tr>\n",
       "    <tr>\n",
       "      <th>359</th>\n",
       "      <td>1.019730e+18</td>\n",
       "      <td>$SAN did not have a good quarter and it was su...</td>\n",
       "      <td>23:28:04</td>\n",
       "      <td>jimcramer</td>\n",
       "      <td>SAN</td>\n",
       "      <td>Banco Santander</td>\n",
       "      <td>https://twitter.com/Marineteam21/status/101971...</td>\n",
       "      <td>True</td>\n",
       "      <td>san did not have a good quarter and it was sur...</td>\n",
       "      <td>2018-07-18</td>\n",
       "    </tr>\n",
       "    <tr>\n",
       "      <th>360</th>\n",
       "      <td>1.019730e+18</td>\n",
       "      <td>$AMAT bulls score big overnight https://t.co/C...</td>\n",
       "      <td>23:37:10</td>\n",
       "      <td>petenajarian</td>\n",
       "      <td>AMAT</td>\n",
       "      <td>Applied Materials</td>\n",
       "      <td>http://zpr.io/6XWjS</td>\n",
       "      <td>True</td>\n",
       "      <td>amat bulls score big overnight  via investitute</td>\n",
       "      <td>2018-07-18</td>\n",
       "    </tr>\n",
       "    <tr>\n",
       "      <th>361</th>\n",
       "      <td>1.019730e+18</td>\n",
       "      <td>$AMAT bulls score big overnight https://t.co/O...</td>\n",
       "      <td>23:38:58</td>\n",
       "      <td>jonnajarian</td>\n",
       "      <td>AMAT</td>\n",
       "      <td>Applied Materials</td>\n",
       "      <td>http://zpr.io/6XWjS</td>\n",
       "      <td>True</td>\n",
       "      <td>amat bulls score big overnight  via investitute</td>\n",
       "      <td>2018-07-18</td>\n",
       "    </tr>\n",
       "    <tr>\n",
       "      <th>362</th>\n",
       "      <td>1.019730e+18</td>\n",
       "      <td>.@MorganStanley stock jumped Wednesday after i...</td>\n",
       "      <td>23:41:09</td>\n",
       "      <td>usnews</td>\n",
       "      <td>MS</td>\n",
       "      <td>Morgan Stanley</td>\n",
       "      <td>https://trib.al/GG1xcPz</td>\n",
       "      <td>True</td>\n",
       "      <td>.morganstanley stock jumped wednesday after it...</td>\n",
       "      <td>2018-07-18</td>\n",
       "    </tr>\n",
       "  </tbody>\n",
       "</table>\n",
       "<p>363 rows × 10 columns</p>\n",
       "</div>"
      ],
      "text/plain": [
       "               id  ...        date\n",
       "0    1.019700e+18  ...  2018-07-18\n",
       "1    1.019710e+18  ...  2018-07-18\n",
       "2    1.019710e+18  ...  2018-07-18\n",
       "3    1.019720e+18  ...  2018-07-18\n",
       "4    1.019720e+18  ...  2018-07-18\n",
       "..            ...  ...         ...\n",
       "358  1.019730e+18  ...  2018-07-18\n",
       "359  1.019730e+18  ...  2018-07-18\n",
       "360  1.019730e+18  ...  2018-07-18\n",
       "361  1.019730e+18  ...  2018-07-18\n",
       "362  1.019730e+18  ...  2018-07-18\n",
       "\n",
       "[363 rows x 10 columns]"
      ]
     },
     "execution_count": 13,
     "metadata": {
      "tags": []
     },
     "output_type": "execute_result"
    }
   ],
   "source": [
    "# Moving cleaned tweets to a sepearte dataframe\n",
    "tweets = df2\n",
    "tweets.head()\n",
    "from datetime import datetime\n",
    "\n",
    "tweets['date'] = pd.to_datetime(tweets['timestamp']).dt.date\n",
    "tweets['timestamp'] = pd.to_datetime(tweets['timestamp']).dt.time\n",
    "tweets = tweets.rename(columns = {\"timestamp\":\"time\"})\n",
    "tweets"
   ]
  },
  {
   "cell_type": "code",
   "execution_count": 15,
   "metadata": {
    "colab": {
     "base_uri": "https://localhost:8080/",
     "height": 316
    },
    "id": "Bo4uOX1zEk1I",
    "outputId": "28c24eca-de12-452f-df17-3df7167ef697"
   },
   "outputs": [
    {
     "name": "stdout",
     "output_type": "stream",
     "text": [
      "\n",
      "Number of tweets in the dataset:  363\n"
     ]
    },
    {
     "data": {
      "text/html": [
       "<div>\n",
       "<style scoped>\n",
       "    .dataframe tbody tr th:only-of-type {\n",
       "        vertical-align: middle;\n",
       "    }\n",
       "\n",
       "    .dataframe tbody tr th {\n",
       "        vertical-align: top;\n",
       "    }\n",
       "\n",
       "    .dataframe thead th {\n",
       "        text-align: right;\n",
       "    }\n",
       "</style>\n",
       "<table border=\"1\" class=\"dataframe\">\n",
       "  <thead>\n",
       "    <tr style=\"text-align: right;\">\n",
       "      <th></th>\n",
       "      <th>id</th>\n",
       "      <th>text</th>\n",
       "      <th>time</th>\n",
       "      <th>source</th>\n",
       "      <th>symbols</th>\n",
       "      <th>company_names</th>\n",
       "      <th>url</th>\n",
       "      <th>verified</th>\n",
       "      <th>tokens</th>\n",
       "      <th>date</th>\n",
       "      <th>Subjectivity</th>\n",
       "      <th>Polarity</th>\n",
       "      <th>Sentiment</th>\n",
       "    </tr>\n",
       "  </thead>\n",
       "  <tbody>\n",
       "    <tr>\n",
       "      <th>0</th>\n",
       "      <td>1.019700e+18</td>\n",
       "      <td>VIDEO: “I was in my office. I was minding my o...</td>\n",
       "      <td>21:33:26</td>\n",
       "      <td>GoldmanSachs</td>\n",
       "      <td>GS</td>\n",
       "      <td>The Goldman Sachs</td>\n",
       "      <td>https://twitter.com/i/web/status/1019696670777...</td>\n",
       "      <td>True</td>\n",
       "      <td>video:  i was in my office. i was minding my o...</td>\n",
       "      <td>2018-07-18</td>\n",
       "      <td>1.000000</td>\n",
       "      <td>0.600000</td>\n",
       "      <td>Positive</td>\n",
       "    </tr>\n",
       "    <tr>\n",
       "      <th>1</th>\n",
       "      <td>1.019710e+18</td>\n",
       "      <td>The price of lumber $LB_F is down 22% since hi...</td>\n",
       "      <td>22:22:47</td>\n",
       "      <td>StockTwits</td>\n",
       "      <td>M</td>\n",
       "      <td>Macy's</td>\n",
       "      <td>https://twitter.com/i/web/status/1019709091038...</td>\n",
       "      <td>True</td>\n",
       "      <td>the price of lumber lb_f is down 22% since hit...</td>\n",
       "      <td>2018-07-18</td>\n",
       "      <td>0.288889</td>\n",
       "      <td>-0.155556</td>\n",
       "      <td>Negative</td>\n",
       "    </tr>\n",
       "    <tr>\n",
       "      <th>2</th>\n",
       "      <td>1.019710e+18</td>\n",
       "      <td>Who says the American Dream is dead? https://t...</td>\n",
       "      <td>22:32:01</td>\n",
       "      <td>TheStreet</td>\n",
       "      <td>AIG</td>\n",
       "      <td>American</td>\n",
       "      <td>https://buff.ly/2L3kmc4</td>\n",
       "      <td>True</td>\n",
       "      <td>who says the american dream is dead?</td>\n",
       "      <td>2018-07-18</td>\n",
       "      <td>0.200000</td>\n",
       "      <td>-0.100000</td>\n",
       "      <td>Negative</td>\n",
       "    </tr>\n",
       "    <tr>\n",
       "      <th>3</th>\n",
       "      <td>1.019720e+18</td>\n",
       "      <td>Barry Silbert is extremely optimistic on bitco...</td>\n",
       "      <td>22:52:52</td>\n",
       "      <td>MarketWatch</td>\n",
       "      <td>BTC</td>\n",
       "      <td>Bitcoin</td>\n",
       "      <td>https://twitter.com/i/web/status/1019716662587...</td>\n",
       "      <td>True</td>\n",
       "      <td>barry silbert is extremely optimistic on bitco...</td>\n",
       "      <td>2018-07-18</td>\n",
       "      <td>0.727273</td>\n",
       "      <td>0.005682</td>\n",
       "      <td>Positive</td>\n",
       "    </tr>\n",
       "    <tr>\n",
       "      <th>4</th>\n",
       "      <td>1.019720e+18</td>\n",
       "      <td>How satellites avoid attacks and space junk wh...</td>\n",
       "      <td>23:00:01</td>\n",
       "      <td>Forbes</td>\n",
       "      <td>ORCL</td>\n",
       "      <td>Oracle</td>\n",
       "      <td>http://on.forbes.com/6013DqDDU</td>\n",
       "      <td>True</td>\n",
       "      <td>how satellites avoid attacks and space junk wh...</td>\n",
       "      <td>2018-07-18</td>\n",
       "      <td>0.000000</td>\n",
       "      <td>0.000000</td>\n",
       "      <td>Neutral</td>\n",
       "    </tr>\n",
       "  </tbody>\n",
       "</table>\n",
       "</div>"
      ],
      "text/plain": [
       "             id  ... Sentiment\n",
       "0  1.019700e+18  ...  Positive\n",
       "1  1.019710e+18  ...  Negative\n",
       "2  1.019710e+18  ...  Negative\n",
       "3  1.019720e+18  ...  Positive\n",
       "4  1.019720e+18  ...   Neutral\n",
       "\n",
       "[5 rows x 13 columns]"
      ]
     },
     "execution_count": 15,
     "metadata": {
      "tags": []
     },
     "output_type": "execute_result"
    }
   ],
   "source": [
    "# get tweet subjectivity \n",
    "def tweet_subjectivity(tweets):\n",
    "    return TextBlob(tweets).sentiment.subjectivity\n",
    "\n",
    "# get tweet polarity\n",
    "def tweet_polarity(tweets):\n",
    "    return TextBlob(tweets).sentiment.polarity\n",
    "\n",
    "#Add sentiment\n",
    "def getSentiment(score):\n",
    "    if score < 0:\n",
    "        return 'Negative'\n",
    "    elif score == 0:\n",
    "        return 'Neutral'\n",
    "    else:\n",
    "        return 'Positive'\n",
    "    \n",
    "tweets['Subjectivity'] = tweets['tokens'].apply(tweet_subjectivity)\n",
    "\n",
    "tweets['Polarity'] = tweets['tokens'].apply(tweet_polarity)\n",
    "  \n",
    "tweets['Sentiment'] = tweets['Polarity'].apply(getSentiment)\n",
    "\n",
    "print(\"\\nNumber of tweets in the dataset: \",len(tweets))\n",
    "tweets.head()"
   ]
  },
  {
   "cell_type": "markdown",
   "metadata": {
    "id": "8osniVE1PKTK"
   },
   "source": [
    "# Query or Search"
   ]
  },
  {
   "cell_type": "code",
   "execution_count": 140,
   "metadata": {
    "id": "d5-xGe4EEk1L"
   },
   "outputs": [],
   "source": [
    "l = []\n",
    "for index, row in tweets.iterrows():\n",
    "  x = index, row['source'], row['text'], row['symbols'], row['date'], row['time'].isoformat()\n",
    "  l.append(x)"
   ]
  },
  {
   "cell_type": "code",
   "execution_count": 142,
   "metadata": {
    "colab": {
     "base_uri": "https://localhost:8080/"
    },
    "id": "IMZNPe6n-1AQ",
    "outputId": "d77d1211-e0dc-4195-adab-853b667df41a"
   },
   "outputs": [
    {
     "name": "stdout",
     "output_type": "stream",
     "text": [
      "index test already exists\n"
     ]
    }
   ],
   "source": [
    "# mappings are used to define what kind of structure your data has. here explicit mapping is used: \n",
    "# https://www.elastic.co/guide/en/elasticsearch/reference/current/explicit-mapping.html\n",
    "\n",
    "# The mapping is used when creating the index through the request body:\n",
    "\n",
    "request_body = {\n",
    "    'settings': {\n",
    "        'number_of_shards': 1,\n",
    "        'number_of_replicas': 1,\n",
    "        \n",
    "    },\n",
    "    'mappings': {\n",
    "          'properties': {\n",
    "              'doc_id': {'type': 'integer'},\n",
    "              'source': {'type': 'text'},\n",
    "              'text': {'type': 'text'},\n",
    "              'symbol': {'type': 'text'},\n",
    "              'date': {'type': 'date'},\n",
    "              'time' : {'type': 'date'},\n",
    "\n",
    "\n",
    "\n",
    "          }\n",
    "    }\n",
    "}\n",
    "\n",
    "index_name = 'test'\n",
    "try:\n",
    "  es.indices.get(index_name)\n",
    "  print('index {} already exists'.format(index_name))\n",
    "except:\n",
    "  print('creating index {}'.format(index_name))\n",
    "  es.indices.create(index_name, body=request_body)"
   ]
  },
  {
   "cell_type": "code",
   "execution_count": 124,
   "metadata": {
    "id": "EqA-EJgQr5rA"
   },
   "outputs": [],
   "source": [
    "for doc_id, source, text, symbol, date, time, company in l:\n",
    "  doc_body = {\n",
    "      'doc_id': doc_id,\n",
    "      'source': source,\n",
    "      'text': text,\n",
    "      'symbol': symbol,\n",
    "      'date' : date,\n",
    "      'time' : time,\n",
    "\n",
    "  }\n",
    "  es.index(index_name, doc_body)\n"
   ]
  },
  {
   "cell_type": "code",
   "execution_count": 169,
   "metadata": {
    "id": "nvDfWCAhx4pd"
   },
   "outputs": [],
   "source": [
    "def search(index_name, query_body):\n",
    "  # return only doc_id and rank\n",
    "  results = es.search(index=index_name, body=query_body, explain=False)\n",
    "  plain_results = [(x['_source']['doc_id'], x['_source']['source'],\n",
    "                    x['_source']['text'], x['_source']['symbol'], \n",
    "                    x['_source']['date'],x['_source']['time'] ) for x in results['hits']['hits']]\n",
    "  return results, plain_results"
   ]
  },
  {
   "cell_type": "code",
   "execution_count": 168,
   "metadata": {
    "colab": {
     "base_uri": "https://localhost:8080/"
    },
    "id": "MHwHnFVty5NZ",
    "outputId": "a030dd36-6eba-4823-a0ea-580c16b68240"
   },
   "outputs": [
    {
     "name": "stdout",
     "output_type": "stream",
     "text": [
      "+----+----------+--------------+----------------------------------------------------------------------------------------------------------------------------------------------+----------+------------+----------+\n",
      "|    |   doc_id | source       | text                                                                                                                                         | symbol   | date       | time     |\n",
      "+====+==========+==============+==============================================================================================================================================+==========+============+==========+\n",
      "|  0 |        0 | GoldmanSachs | VIDEO: “I was in my office. I was minding my own business...” –David Solomon tells $GS interns how he learned he wa… https://t.co/QClAITywXV | GS       | 2018-07-18 | 21:33:26 |\n",
      "+----+----------+--------------+----------------------------------------------------------------------------------------------------------------------------------------------+----------+------------+----------+\n",
      "|  1 |        0 | GoldmanSachs | VIDEO: “I was in my office. I was minding my own business...” –David Solomon tells $GS interns how he learned he wa… https://t.co/QClAITywXV | GS       | 2018-07-18 | 21:33:26 |\n",
      "+----+----------+--------------+----------------------------------------------------------------------------------------------------------------------------------------------+----------+------------+----------+\n",
      "|  2 |        0 | GoldmanSachs | VIDEO: “I was in my office. I was minding my own business...” –David Solomon tells $GS interns how he learned he wa… https://t.co/QClAITywXV | GS       | 2018-07-18 | 21:33:26 |\n",
      "+----+----------+--------------+----------------------------------------------------------------------------------------------------------------------------------------------+----------+------------+----------+\n",
      "|  3 |        0 | GoldmanSachs | VIDEO: “I was in my office. I was minding my own business...” –David Solomon tells $GS interns how he learned he wa… https://t.co/QClAITywXV | GS       | 2018-07-18 | 21:33:26 |\n",
      "+----+----------+--------------+----------------------------------------------------------------------------------------------------------------------------------------------+----------+------------+----------+\n"
     ]
    }
   ],
   "source": [
    "timestamp = \"\" #@param {type:\"date\"}\n",
    "twitter = \"GoldmanSachs\" #@param {type: \"string\"} \n",
    "keyword = \"\" #@param {type: \"string\"} \n",
    "\n",
    "query_body = {\n",
    "    \"query\": {\n",
    "        \"bool\": {\n",
    "            \"should\": [   #change to must, if you want to create a specific search or should\n",
    "                {\"match\": {\"date\" : timestamp}},\n",
    "                {\"match\": {\"source\" : twitter}},\n",
    "                {\"match\": {\"text\" : keyword}},\n",
    "            ]\n",
    "        }\n",
    "    }\n",
    "}\n",
    "\n",
    "\n",
    "#print results\n",
    "results, plain_results = search(index_name, query_body)\n",
    "r = pd.DataFrame(plain_results)\n",
    "if len(plain_results) > 0:\n",
    "  r.columns =['doc_id', 'source', 'text', 'symbol', 'date', 'time']\n",
    "  print(r.to_markdown(tablefmt='grid'))\n",
    "else:\n",
    "  print(\"There are no results for these querys\")\n",
    "\n"
   ]
  }
 ],
 "metadata": {
  "colab": {
   "collapsed_sections": [],
   "name": "Copy of Data_Analysis_Reduced_data.ipynb",
   "provenance": []
  },
  "kernelspec": {
   "display_name": "Python 3",
   "language": "python",
   "name": "python3"
  },
  "language_info": {
   "codemirror_mode": {
    "name": "ipython",
    "version": 3
   },
   "file_extension": ".py",
   "mimetype": "text/x-python",
   "name": "python",
   "nbconvert_exporter": "python",
   "pygments_lexer": "ipython3",
   "version": "3.8.5"
  }
 },
 "nbformat": 4,
 "nbformat_minor": 4
}
